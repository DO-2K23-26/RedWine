{
 "cells": [
  {
   "cell_type": "code",
   "execution_count": 1,
   "id": "initial_id",
   "metadata": {
    "collapsed": true,
    "ExecuteTime": {
     "end_time": "2025-02-20T07:16:07.763911466Z",
     "start_time": "2025-02-20T07:16:05.997356671Z"
    }
   },
   "outputs": [
    {
     "name": "stdout",
     "output_type": "stream",
     "text": [
      "Extrait des données    fixed acidity  volatile acidity  citric acid  residual sugar  chlorides  \\\n",
      "0            7.4              0.70         0.00             1.9      0.076   \n",
      "1            7.8              0.88         0.00             2.6      0.098   \n",
      "2            7.8              0.76         0.04             2.3      0.092   \n",
      "3           11.2              0.28         0.56             1.9      0.075   \n",
      "4            7.4              0.70         0.00             1.9      0.076   \n",
      "\n",
      "   free sulfur dioxide  total sulfur dioxide  density    pH  sulphates  \\\n",
      "0                 11.0                  34.0   0.9978  3.51       0.56   \n",
      "1                 25.0                  67.0   0.9968  3.20       0.68   \n",
      "2                 15.0                  54.0   0.9970  3.26       0.65   \n",
      "3                 17.0                  60.0   0.9980  3.16       0.58   \n",
      "4                 11.0                  34.0   0.9978  3.51       0.56   \n",
      "\n",
      "   alcohol  quality  \n",
      "0      9.4        5  \n",
      "1      9.8        5  \n",
      "2      9.8        5  \n",
      "3      9.8        6  \n",
      "4      9.4        5  \n",
      "Nombre de données 1599\n",
      "-------------------- fixed acidity --------------------\n",
      "🔹 number of unique value fixed acidity : 96\n",
      "🔹 number of null value fixed acidity : 0\n",
      "🔹 min value for fixed acidity : 4.6\n",
      "🔹 max value for fixed acidity : 15.9\n",
      "-------------------- volatile acidity --------------------\n",
      "🔹 number of unique value volatile acidity : 143\n",
      "🔹 number of null value volatile acidity : 0\n",
      "🔹 min value for volatile acidity : 0.12\n",
      "🔹 max value for volatile acidity : 1.58\n",
      "-------------------- citric acid --------------------\n",
      "🔹 number of unique value citric acid : 80\n",
      "🔹 number of null value citric acid : 0\n",
      "🔹 min value for citric acid : 0.0\n",
      "🔹 max value for citric acid : 1.0\n",
      "-------------------- residual sugar --------------------\n",
      "🔹 number of unique value residual sugar : 91\n",
      "🔹 number of null value residual sugar : 0\n",
      "🔹 min value for residual sugar : 0.9\n",
      "🔹 max value for residual sugar : 15.5\n",
      "-------------------- chlorides --------------------\n",
      "🔹 number of unique value chlorides : 153\n",
      "🔹 number of null value chlorides : 0\n",
      "🔹 min value for chlorides : 0.012\n",
      "🔹 max value for chlorides : 0.611\n",
      "-------------------- free sulfur dioxide --------------------\n",
      "🔹 number of unique value free sulfur dioxide : 60\n",
      "🔹 number of null value free sulfur dioxide : 0\n",
      "🔹 min value for free sulfur dioxide : 1.0\n",
      "🔹 max value for free sulfur dioxide : 72.0\n",
      "-------------------- total sulfur dioxide --------------------\n",
      "🔹 number of unique value total sulfur dioxide : 144\n",
      "🔹 number of null value total sulfur dioxide : 0\n",
      "🔹 min value for total sulfur dioxide : 6.0\n",
      "🔹 max value for total sulfur dioxide : 289.0\n",
      "-------------------- density --------------------\n",
      "🔹 number of unique value density : 436\n",
      "🔹 number of null value density : 0\n",
      "🔹 min value for density : 0.99007\n",
      "🔹 max value for density : 1.00369\n",
      "-------------------- pH --------------------\n",
      "🔹 number of unique value pH : 89\n",
      "🔹 number of null value pH : 0\n",
      "🔹 min value for pH : 2.74\n",
      "🔹 max value for pH : 4.01\n",
      "-------------------- sulphates --------------------\n",
      "🔹 number of unique value sulphates : 96\n",
      "🔹 number of null value sulphates : 0\n",
      "🔹 min value for sulphates : 0.33\n",
      "🔹 max value for sulphates : 2.0\n",
      "-------------------- alcohol --------------------\n",
      "🔹 number of unique value alcohol : 65\n",
      "🔹 number of null value alcohol : 0\n",
      "🔹 min value for alcohol : 8.4\n",
      "🔹 max value for alcohol : 14.9\n",
      "-------------------- quality --------------------\n",
      "🔹 number of unique value quality : 6\n",
      "🔹 number of null value quality : 0\n",
      "🔹 min value for quality : 3\n",
      "🔹 max value for quality : 8\n",
      "Score du modèle 0.5957779515246286\n"
     ]
    }
   ],
   "source": [
    "import pandas as pd\n",
    "from sklearn.ensemble import RandomForestClassifier\n",
    "from sklearn.model_selection import train_test_split\n",
    "\n",
    "df = pd.read_csv('data/winequality-red.csv', sep=';')\n",
    "\n",
    "print(\"Extrait des données\", df.head())\n",
    "print(\"Nombre de données\", df.shape[0])\n",
    "\n",
    "for col in df.columns:\n",
    "    unique_values = df[col].unique()\n",
    "    # print(f\"🔹 {col} : {unique_values}\")\n",
    "    print(\"--------------------\", col, \"--------------------\")\n",
    "    print(f\"🔹 number of unique value {col} : {len(unique_values)}\")\n",
    "    print(f\"🔹 number of null value {col} : {df[col].isnull().sum()}\")\n",
    "    print(f\"🔹 min value for {col} : {df[col].min()}\")\n",
    "    print(f\"🔹 max value for {col} : {df[col].max()}\")\n",
    "\n",
    "\n",
    "X_test, X_train, y_test, y_train = train_test_split(df.drop('quality', axis=1), df['quality'], test_size=0.2, random_state=42)\n",
    "rf_model = RandomForestClassifier(n_estimators=1000, random_state=42)\n",
    "rf_model.fit(X_train, y_train)\n",
    "print(\"Score du modèle\", rf_model.score(X_test, y_test))\n"
   ]
  },
  {
   "cell_type": "code",
   "execution_count": 6,
   "outputs": [],
   "source": [],
   "metadata": {
    "collapsed": false,
    "ExecuteTime": {
     "end_time": "2025-02-17T12:00:15.764358585Z",
     "start_time": "2025-02-17T12:00:15.759966522Z"
    }
   },
   "id": "c127e63260b8344c"
  }
 ],
 "metadata": {
  "kernelspec": {
   "display_name": "Python 3",
   "language": "python",
   "name": "python3"
  },
  "language_info": {
   "codemirror_mode": {
    "name": "ipython",
    "version": 2
   },
   "file_extension": ".py",
   "mimetype": "text/x-python",
   "name": "python",
   "nbconvert_exporter": "python",
   "pygments_lexer": "ipython2",
   "version": "2.7.6"
  }
 },
 "nbformat": 4,
 "nbformat_minor": 5
}
